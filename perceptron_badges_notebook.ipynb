{
 "cells": [
  {
   "cell_type": "markdown",
   "metadata": {},
   "source": [
    "# Training a single-layer perceptron to solve the badges problem"
   ]
  },
  {
   "cell_type": "markdown",
   "metadata": {},
   "source": [
    "The badges data is available [here.](http://www.hakank.org/data_mining/badges.data) Random library will be used to initialise weights, and matplotlib for a final plot. "
   ]
  },
  {
   "cell_type": "code",
   "execution_count": 1,
   "metadata": {
    "collapsed": true
   },
   "outputs": [],
   "source": [
    "import random\n",
    "import matplotlib.pyplot as plt\n",
    "\n",
    "data = [name.rstrip('\\n') for name in open('badges.data.txt', 'r').readlines()]\n",
    "labels = [s[0] for s in data]\n",
    "for i in range(len(labels)):\n",
    "    if labels[i] == '+':\n",
    "        labels[i] = 1\n",
    "    else:\n",
    "        labels[i] = 0\n",
    "names = [s[2::] for s in data]"
   ]
  },
  {
   "cell_type": "markdown",
   "metadata": {},
   "source": [
    "## Helper functions"
   ]
  },
  {
   "cell_type": "code",
   "execution_count": 2,
   "metadata": {
    "collapsed": true
   },
   "outputs": [],
   "source": [
    "# We will use this to multiply input and weight vectors\n",
    "def dotProduct(m1, m2):\n",
    "    product = sum([(m1[i] * m2[i]) for i in range(len(m1))])\n",
    "    return product\n",
    "\n",
    "# Returns 1/0 based on dot product\n",
    "def sgnActivation(w, x):\n",
    "    wx = dotProduct(w, x)\n",
    "    if wx > 0:\n",
    "        return 1\n",
    "    else:\n",
    "        return 0\n",
    "# Returns features in array form\n",
    "def getFeatures(name):\n",
    "    vowels = 'AEIOUaeiou'\n",
    "    letter_count = len(name)\n",
    "\n",
    "    letters_parity = 0\n",
    "    if letter_count % 2 == 0:\n",
    "        letters_parity = 1\n",
    "\n",
    "    vowel_count = 0\n",
    "    for letter in name:\n",
    "        if letter in vowels:\n",
    "            vowel_count += 1\n",
    "\n",
    "    is_second_letter_vowel = 0\n",
    "    if name[1] != '.':\n",
    "        if name[1] in vowels:\n",
    "            is_second_letter_vowel = 1\n",
    "    elif name[3] in vowels:\n",
    "        is_second_letter_vowel = 1\n",
    "\n",
    "    return [letter_count, letters_parity, vowel_count, is_second_letter_vowel]"
   ]
  },
  {
   "cell_type": "markdown",
   "metadata": {},
   "source": [
    "## Training"
   ]
  },
  {
   "cell_type": "markdown",
   "metadata": {},
   "source": [
    "Weight updating stops when: \n",
    "\n",
    "1. All predictions based on training set are correct (not very practical)\n",
    "1. Iterations reaches specified limit"
   ]
  },
  {
   "cell_type": "code",
   "execution_count": 3,
   "metadata": {
    "collapsed": true
   },
   "outputs": [],
   "source": [
    "input_data = [getFeatures(name) for name in names]\n",
    "X_train, Y_train = input_data[0:200], labels[0:200]\n",
    "X_test, Y_test = input_data[200::], labels[200::]\n",
    "\n",
    "# Returns an accurate weight matrix based on training data and target outputs\n",
    "# Since it's impractical to wait for complete accuracy, the argument takes a iteration limit argument\n",
    "def train(X, Y, iter_limit):\n",
    "\n",
    "    iterations = 0\n",
    "    learning_rate = 0.1\n",
    "    weights = [round(random.uniform(-1, 1), 3) for n in X[0]]\n",
    "\n",
    "    m = len(X)\n",
    "    inaccurate = True\n",
    "    while inaccurate:\n",
    "        iterations += 1\n",
    "        corrects = 0\n",
    "        for i in range(m):\n",
    "            prediction = sgnActivation(weights, X[i])\n",
    "            y = Y[i]\n",
    "            if prediction == y:\n",
    "                corrects += 1\n",
    "            else:\n",
    "                diff = y - prediction\n",
    "                for n in range(len(X[0])):\n",
    "                    weights[n] -= learning_rate * diff * X[i][n]\n",
    "\n",
    "        if corrects == m or iterations == iter_limit:\n",
    "            inaccurate = False\n",
    "            return weights\n",
    "\n",
    "        learning_rate = learning_rate / (1 + iterations)"
   ]
  },
  {
   "cell_type": "markdown",
   "metadata": {},
   "source": [
    "## Functions to help with testing and scoring"
   ]
  },
  {
   "cell_type": "code",
   "execution_count": 4,
   "metadata": {
    "collapsed": true
   },
   "outputs": [],
   "source": [
    "# Returns '+' or '-' depending on what weights the train() function learned. Will be used in score()\n",
    "def predict(x, w):\n",
    "    prediction_key = ['-', '+']\n",
    "    prediction = sgnActivation(x, w)\n",
    "    return prediction_key[prediction]\n",
    "\n",
    "# Returns an accuracy percentage as float\n",
    "def score(X, Y, W):\n",
    "    checks = 0\n",
    "    corrects = 0\n",
    "    for i in range(len(X)):\n",
    "        checks += 1\n",
    "        prediction = sgnActivation(X[i], W)\n",
    "        if prediction == Y[i]:\n",
    "            corrects += 1\n",
    "    return(corrects/checks * 100)"
   ]
  },
  {
   "cell_type": "markdown",
   "metadata": {},
   "source": [
    "# Plotting accuracy against iter_limit"
   ]
  },
  {
   "cell_type": "code",
   "execution_count": 8,
   "metadata": {},
   "outputs": [
    {
     "data": {
      "image/png": "[encoded data removed]",
      "text/plain": [
       "<matplotlib.figure.Figure at 0x1186a6c88>"
      ]
     },
     "metadata": {},
     "output_type": "display_data"
    }
   ],
   "source": [
    "iterations = [n for n in range(2, 100)]\n",
    "plt.plot(iterations, [score(X_test, Y_test, train(X_train, Y_train, i)) for i in iterations])\n",
    "plt.show()"
   ]
  },
  {
   "cell_type": "markdown",
   "metadata": {},
   "source": [
    "This is a very strange plot. The reason for this rapid switching is probably that my perceptron isn't finding a good fit for the data based on my feature functions. However, the fact that the max accuracy shown (75%) is reasonably high, I can still fix this by using a bias term, which I hadn't added earlier. "
   ]
  }
 ],
 "metadata": {
  "kernelspec": {
   "display_name": "Python 3",
   "language": "python",
   "name": "python3"
  },
  "language_info": {
   "codemirror_mode": {
    "name": "ipython",
    "version": 3
   },
   "file_extension": ".py",
   "mimetype": "text/x-python",
   "name": "python",
   "nbconvert_exporter": "python",
   "pygments_lexer": "ipython3",
   "version": "3.6.8"
  }
 },
 "nbformat": 4,
 "nbformat_minor": 2
}
